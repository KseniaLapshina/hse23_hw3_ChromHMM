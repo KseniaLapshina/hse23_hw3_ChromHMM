{
  "nbformat": 4,
  "nbformat_minor": 0,
  "metadata": {
    "colab": {
      "provenance": []
    },
    "kernelspec": {
      "name": "python3",
      "display_name": "Python 3"
    },
    "language_info": {
      "name": "python"
    }
  },
  "cells": [
    {
      "cell_type": "markdown",
      "source": [
        "## Скачиваем файлы"
      ],
      "metadata": {
        "id": "XiVh56p34j3s"
      }
    },
    {
      "cell_type": "code",
      "execution_count": 1,
      "metadata": {
        "colab": {
          "base_uri": "https://localhost:8080/"
        },
        "id": "1M3_PR__4fmE",
        "outputId": "81439a10-dc6b-4904-ec4c-982f10e6a2fc"
      },
      "outputs": [
        {
          "output_type": "stream",
          "name": "stdout",
          "text": [
            "--2023-04-03 11:31:49--  http://hgdownload.cse.ucsc.edu/goldenPath/hg19/encodeDCC/wgEncodeBroadHistone/wgEncodeBroadHistoneGm12878H3k27acStdAlnRep1.bam\n",
            "Resolving hgdownload.cse.ucsc.edu (hgdownload.cse.ucsc.edu)... 128.114.119.163\n",
            "Connecting to hgdownload.cse.ucsc.edu (hgdownload.cse.ucsc.edu)|128.114.119.163|:80... connected.\n",
            "HTTP request sent, awaiting response... 200 OK\n",
            "Length: 558819243 (533M) [application/octet-stream]\n",
            "Saving to: ‘wgEncodeBroadHistoneGm12878H3k27acStdAlnRep1.bam’\n",
            "\n",
            "wgEncodeBroadHiston 100%[===================>] 532.93M  38.8MB/s    in 15s     \n",
            "\n",
            "2023-04-03 11:32:05 (35.9 MB/s) - ‘wgEncodeBroadHistoneGm12878H3k27acStdAlnRep1.bam’ saved [558819243/558819243]\n",
            "\n",
            "--2023-04-03 11:32:05--  http://hgdownload.cse.ucsc.edu/goldenPath/hg19/encodeDCC/wgEncodeBroadHistone/wgEncodeBroadHistoneGm12878H2azStdAlnRep1.bam\n",
            "Resolving hgdownload.cse.ucsc.edu (hgdownload.cse.ucsc.edu)... 128.114.119.163\n",
            "Connecting to hgdownload.cse.ucsc.edu (hgdownload.cse.ucsc.edu)|128.114.119.163|:80... connected.\n",
            "HTTP request sent, awaiting response... 200 OK\n",
            "Length: 909432292 (867M) [application/octet-stream]\n",
            "Saving to: ‘wgEncodeBroadHistoneGm12878H2azStdAlnRep1.bam’\n",
            "\n",
            "wgEncodeBroadHiston 100%[===================>] 867.30M  37.0MB/s    in 25s     \n",
            "\n",
            "2023-04-03 11:32:30 (34.8 MB/s) - ‘wgEncodeBroadHistoneGm12878H2azStdAlnRep1.bam’ saved [909432292/909432292]\n",
            "\n",
            "--2023-04-03 11:32:30--  http://hgdownload.cse.ucsc.edu/goldenPath/hg19/encodeDCC/wgEncodeBroadHistone/wgEncodeBroadHistoneGm12878H3k27me3StdAlnRep1.bam\n",
            "Resolving hgdownload.cse.ucsc.edu (hgdownload.cse.ucsc.edu)... 128.114.119.163\n",
            "Connecting to hgdownload.cse.ucsc.edu (hgdownload.cse.ucsc.edu)|128.114.119.163|:80... connected.\n",
            "HTTP request sent, awaiting response... 200 OK\n",
            "Length: 694904987 (663M) [application/octet-stream]\n",
            "Saving to: ‘wgEncodeBroadHistoneGm12878H3k27me3StdAlnRep1.bam’\n",
            "\n",
            "wgEncodeBroadHiston 100%[===================>] 662.71M  37.7MB/s    in 19s     \n",
            "\n",
            "2023-04-03 11:32:49 (35.6 MB/s) - ‘wgEncodeBroadHistoneGm12878H3k27me3StdAlnRep1.bam’ saved [694904987/694904987]\n",
            "\n",
            "--2023-04-03 11:32:49--  http://hgdownload.cse.ucsc.edu/goldenPath/hg19/encodeDCC/wgEncodeBroadHistone/wgEncodeBroadHistoneGm12878H3k36me3StdAlnRep1.bam\n",
            "Resolving hgdownload.cse.ucsc.edu (hgdownload.cse.ucsc.edu)... 128.114.119.163\n",
            "Connecting to hgdownload.cse.ucsc.edu (hgdownload.cse.ucsc.edu)|128.114.119.163|:80... connected.\n",
            "HTTP request sent, awaiting response... 200 OK\n",
            "Length: 653896954 (624M) [application/octet-stream]\n",
            "Saving to: ‘wgEncodeBroadHistoneGm12878H3k36me3StdAlnRep1.bam’\n",
            "\n",
            "wgEncodeBroadHiston 100%[===================>] 623.60M  37.9MB/s    in 18s     \n",
            "\n",
            "2023-04-03 11:33:07 (35.2 MB/s) - ‘wgEncodeBroadHistoneGm12878H3k36me3StdAlnRep1.bam’ saved [653896954/653896954]\n",
            "\n",
            "--2023-04-03 11:33:07--  http://hgdownload.cse.ucsc.edu/goldenPath/hg19/encodeDCC/wgEncodeBroadHistone/wgEncodeBroadHistoneGm12878H3k04me1StdAlnRep1V2.bam\n",
            "Resolving hgdownload.cse.ucsc.edu (hgdownload.cse.ucsc.edu)... 128.114.119.163\n",
            "Connecting to hgdownload.cse.ucsc.edu (hgdownload.cse.ucsc.edu)|128.114.119.163|:80... connected.\n",
            "HTTP request sent, awaiting response... 200 OK\n",
            "Length: 1669578931 (1.6G) [application/octet-stream]\n",
            "Saving to: ‘wgEncodeBroadHistoneGm12878H3k04me1StdAlnRep1V2.bam’\n",
            "\n",
            "wgEncodeBroadHiston 100%[===================>]   1.55G  36.7MB/s    in 44s     \n",
            "\n",
            "2023-04-03 11:33:52 (35.9 MB/s) - ‘wgEncodeBroadHistoneGm12878H3k04me1StdAlnRep1V2.bam’ saved [1669578931/1669578931]\n",
            "\n",
            "--2023-04-03 11:33:52--  http://hgdownload.cse.ucsc.edu/goldenPath/hg19/encodeDCC/wgEncodeBroadHistone/wgEncodeBroadHistoneGm12878H3k4me2StdAlnRep1.bam\n",
            "Resolving hgdownload.cse.ucsc.edu (hgdownload.cse.ucsc.edu)... 128.114.119.163\n",
            "Connecting to hgdownload.cse.ucsc.edu (hgdownload.cse.ucsc.edu)|128.114.119.163|:80... connected.\n",
            "HTTP request sent, awaiting response... 200 OK\n",
            "Length: 375560725 (358M) [application/octet-stream]\n",
            "Saving to: ‘wgEncodeBroadHistoneGm12878H3k4me2StdAlnRep1.bam’\n",
            "\n",
            "wgEncodeBroadHiston 100%[===================>] 358.16M  37.1MB/s    in 11s     \n",
            "\n",
            "2023-04-03 11:34:03 (33.0 MB/s) - ‘wgEncodeBroadHistoneGm12878H3k4me2StdAlnRep1.bam’ saved [375560725/375560725]\n",
            "\n",
            "--2023-04-03 11:34:03--  http://hgdownload.cse.ucsc.edu/goldenPath/hg19/encodeDCC/wgEncodeBroadHistone/wgEncodeBroadHistoneGm12878H3k04me3StdAlnRep2V2.bam\n",
            "Resolving hgdownload.cse.ucsc.edu (hgdownload.cse.ucsc.edu)... 128.114.119.163\n",
            "Connecting to hgdownload.cse.ucsc.edu (hgdownload.cse.ucsc.edu)|128.114.119.163|:80... connected.\n",
            "HTTP request sent, awaiting response... 200 OK\n",
            "Length: 1728763008 (1.6G) [application/octet-stream]\n",
            "Saving to: ‘wgEncodeBroadHistoneGm12878H3k04me3StdAlnRep2V2.bam’\n",
            "\n",
            "wgEncodeBroadHiston 100%[===================>]   1.61G  36.0MB/s    in 45s     \n",
            "\n",
            "2023-04-03 11:34:49 (36.6 MB/s) - ‘wgEncodeBroadHistoneGm12878H3k04me3StdAlnRep2V2.bam’ saved [1728763008/1728763008]\n",
            "\n",
            "--2023-04-03 11:34:49--  http://hgdownload.cse.ucsc.edu/goldenPath/hg19/encodeDCC/wgEncodeBroadHistone/wgEncodeBroadHistoneGm12878H3k79me2StdAlnRep1.bam\n",
            "Resolving hgdownload.cse.ucsc.edu (hgdownload.cse.ucsc.edu)... 128.114.119.163\n",
            "Connecting to hgdownload.cse.ucsc.edu (hgdownload.cse.ucsc.edu)|128.114.119.163|:80... connected.\n",
            "HTTP request sent, awaiting response... 200 OK\n",
            "Length: 665537795 (635M) [application/octet-stream]\n",
            "Saving to: ‘wgEncodeBroadHistoneGm12878H3k79me2StdAlnRep1.bam’\n",
            "\n",
            "wgEncodeBroadHiston 100%[===================>] 634.71M  37.0MB/s    in 18s     \n",
            "\n",
            "2023-04-03 11:35:07 (35.1 MB/s) - ‘wgEncodeBroadHistoneGm12878H3k79me2StdAlnRep1.bam’ saved [665537795/665537795]\n",
            "\n",
            "--2023-04-03 11:35:07--  http://hgdownload.cse.ucsc.edu/goldenPath/hg19/encodeDCC/wgEncodeBroadHistone/wgEncodeBroadHistoneGm12878H3k9acStdAlnRep1.bam\n",
            "Resolving hgdownload.cse.ucsc.edu (hgdownload.cse.ucsc.edu)... 128.114.119.163\n",
            "Connecting to hgdownload.cse.ucsc.edu (hgdownload.cse.ucsc.edu)|128.114.119.163|:80... connected.\n",
            "HTTP request sent, awaiting response... 200 OK\n",
            "Length: 483340301 (461M) [application/octet-stream]\n",
            "Saving to: ‘wgEncodeBroadHistoneGm12878H3k9acStdAlnRep1.bam’\n",
            "\n",
            "wgEncodeBroadHiston 100%[===================>] 460.95M  36.9MB/s    in 13s     \n",
            "\n",
            "2023-04-03 11:35:21 (35.1 MB/s) - ‘wgEncodeBroadHistoneGm12878H3k9acStdAlnRep1.bam’ saved [483340301/483340301]\n",
            "\n",
            "--2023-04-03 11:35:21--  http://hgdownload.cse.ucsc.edu/goldenPath/hg19/encodeDCC/wgEncodeBroadHistone/wgEncodeBroadHistoneGm12878H3k9me3StdAlnRep1.bam\n",
            "Resolving hgdownload.cse.ucsc.edu (hgdownload.cse.ucsc.edu)... 128.114.119.163\n",
            "Connecting to hgdownload.cse.ucsc.edu (hgdownload.cse.ucsc.edu)|128.114.119.163|:80... connected.\n",
            "HTTP request sent, awaiting response... 200 OK\n",
            "Length: 677319758 (646M) [application/octet-stream]\n",
            "Saving to: ‘wgEncodeBroadHistoneGm12878H3k9me3StdAlnRep1.bam’\n",
            "\n",
            "wgEncodeBroadHiston 100%[===================>] 645.94M  37.7MB/s    in 18s     \n",
            "\n",
            "2023-04-03 11:35:39 (35.0 MB/s) - ‘wgEncodeBroadHistoneGm12878H3k9me3StdAlnRep1.bam’ saved [677319758/677319758]\n",
            "\n",
            "--2023-04-03 11:35:40--  http://hgdownload.cse.ucsc.edu/goldenPath/hg19/encodeDCC/wgEncodeBroadHistone/wgEncodeBroadHistoneGm12878H4k20me1StdAlnRep1.bam\n",
            "Resolving hgdownload.cse.ucsc.edu (hgdownload.cse.ucsc.edu)... 128.114.119.163\n",
            "Connecting to hgdownload.cse.ucsc.edu (hgdownload.cse.ucsc.edu)|128.114.119.163|:80... connected.\n",
            "HTTP request sent, awaiting response... 200 OK\n",
            "Length: 549937794 (524M) [application/octet-stream]\n",
            "Saving to: ‘wgEncodeBroadHistoneGm12878H4k20me1StdAlnRep1.bam’\n",
            "\n",
            "wgEncodeBroadHiston 100%[===================>] 524.46M  37.3MB/s    in 15s     \n",
            "\n",
            "2023-04-03 11:35:55 (34.9 MB/s) - ‘wgEncodeBroadHistoneGm12878H4k20me1StdAlnRep1.bam’ saved [549937794/549937794]\n",
            "\n"
          ]
        }
      ],
      "source": [
        "!wget http://hgdownload.cse.ucsc.edu/goldenPath/hg19/encodeDCC/wgEncodeBroadHistone/wgEncodeBroadHistoneGm12878H3k27acStdAlnRep1.bam\n",
        "!wget http://hgdownload.cse.ucsc.edu/goldenPath/hg19/encodeDCC/wgEncodeBroadHistone/wgEncodeBroadHistoneGm12878H2azStdAlnRep1.bam\n",
        "!wget http://hgdownload.cse.ucsc.edu/goldenPath/hg19/encodeDCC/wgEncodeBroadHistone/wgEncodeBroadHistoneGm12878H3k27me3StdAlnRep1.bam\n",
        "!wget http://hgdownload.cse.ucsc.edu/goldenPath/hg19/encodeDCC/wgEncodeBroadHistone/wgEncodeBroadHistoneGm12878H3k36me3StdAlnRep1.bam\n",
        "!wget http://hgdownload.cse.ucsc.edu/goldenPath/hg19/encodeDCC/wgEncodeBroadHistone/wgEncodeBroadHistoneGm12878H3k04me1StdAlnRep1V2.bam\n",
        "!wget http://hgdownload.cse.ucsc.edu/goldenPath/hg19/encodeDCC/wgEncodeBroadHistone/wgEncodeBroadHistoneGm12878H3k4me2StdAlnRep1.bam\n",
        "!wget http://hgdownload.cse.ucsc.edu/goldenPath/hg19/encodeDCC/wgEncodeBroadHistone/wgEncodeBroadHistoneGm12878H3k04me3StdAlnRep2V2.bam\n",
        "!wget http://hgdownload.cse.ucsc.edu/goldenPath/hg19/encodeDCC/wgEncodeBroadHistone/wgEncodeBroadHistoneGm12878H3k79me2StdAlnRep1.bam\n",
        "!wget http://hgdownload.cse.ucsc.edu/goldenPath/hg19/encodeDCC/wgEncodeBroadHistone/wgEncodeBroadHistoneGm12878H3k9acStdAlnRep1.bam\n",
        "!wget http://hgdownload.cse.ucsc.edu/goldenPath/hg19/encodeDCC/wgEncodeBroadHistone/wgEncodeBroadHistoneGm12878H3k9me3StdAlnRep1.bam\n",
        "!wget http://hgdownload.cse.ucsc.edu/goldenPath/hg19/encodeDCC/wgEncodeBroadHistone/wgEncodeBroadHistoneGm12878H4k20me1StdAlnRep1.bam"
      ]
    },
    {
      "cell_type": "code",
      "source": [
        "!wget http://hgdownload.cse.ucsc.edu/goldenPath/hg19/encodeDCC/wgEncodeBroadHistone/wgEncodeBroadHistoneGm12878ControlStdAlnRep1.bam"
      ],
      "metadata": {
        "id": "FG-SBsXU-4Sm",
        "colab": {
          "base_uri": "https://localhost:8080/"
        },
        "outputId": "8424c7b9-908c-4a20-e0b7-b3e86e8cd4ad"
      },
      "execution_count": 2,
      "outputs": [
        {
          "output_type": "stream",
          "name": "stdout",
          "text": [
            "--2023-04-03 11:38:37--  http://hgdownload.cse.ucsc.edu/goldenPath/hg19/encodeDCC/wgEncodeBroadHistone/wgEncodeBroadHistoneGm12878ControlStdAlnRep1.bam\n",
            "Resolving hgdownload.cse.ucsc.edu (hgdownload.cse.ucsc.edu)... 128.114.119.163\n",
            "Connecting to hgdownload.cse.ucsc.edu (hgdownload.cse.ucsc.edu)|128.114.119.163|:80... connected.\n",
            "HTTP request sent, awaiting response... 200 OK\n",
            "Length: 309676571 (295M) [application/octet-stream]\n",
            "Saving to: ‘wgEncodeBroadHistoneGm12878ControlStdAlnRep1.bam’\n",
            "\n",
            "wgEncodeBroadHiston 100%[===================>] 295.33M  38.6MB/s    in 8.0s    \n",
            "\n",
            "2023-04-03 11:38:45 (36.8 MB/s) - ‘wgEncodeBroadHistoneGm12878ControlStdAlnRep1.bam’ saved [309676571/309676571]\n",
            "\n"
          ]
        }
      ]
    },
    {
      "cell_type": "markdown",
      "source": [
        "## Устанавливаем java и ChromHmm"
      ],
      "metadata": {
        "id": "2OwSnxUF_MVg"
      }
    },
    {
      "cell_type": "code",
      "source": [
        "!curl -O https://raw.githubusercontent.com/deepjavalibrary/d2l-java/master/tools/fix-colab-gpu.sh && bash fix-colab-gpu.sh"
      ],
      "metadata": {
        "id": "gOmAr3ex_OmW",
        "colab": {
          "base_uri": "https://localhost:8080/"
        },
        "outputId": "83768c8e-837d-4a55-a5cf-d1cffa450d94"
      },
      "execution_count": 3,
      "outputs": [
        {
          "output_type": "stream",
          "name": "stdout",
          "text": [
            "  % Total    % Received % Xferd  Average Speed   Time    Time     Time  Current\n",
            "                                 Dload  Upload   Total   Spent    Left  Speed\n",
            "\r  0     0    0     0    0     0      0      0 --:--:-- --:--:-- --:--:--     0\r100   155  100   155    0     0   1240      0 --:--:-- --:--:-- --:--:--  1240\n",
            "fix-colab-gpu.sh: line 5: nvcc: command not found\n"
          ]
        }
      ]
    },
    {
      "cell_type": "code",
      "source": [
        "!curl -O https://raw.githubusercontent.com/deepjavalibrary/d2l-java/master/tools/colab_build.sh && bash colab_build.sh"
      ],
      "metadata": {
        "id": "eMKooM4c_Toe",
        "colab": {
          "base_uri": "https://localhost:8080/"
        },
        "outputId": "5e0b79b5-e930-4487-ec00-d92253ac5a3c"
      },
      "execution_count": 4,
      "outputs": [
        {
          "output_type": "stream",
          "name": "stdout",
          "text": [
            "  % Total    % Received % Xferd  Average Speed   Time    Time     Time  Current\n",
            "                                 Dload  Upload   Total   Spent    Left  Speed\n",
            "\r  0     0    0     0    0     0      0      0 --:--:-- --:--:-- --:--:--     0\r100   520  100   520    0     0   6117      0 --:--:-- --:--:-- --:--:--  6117\n",
            "Update environment...\n",
            "Install Java...\n",
            "Install Jupyter java kernel...\n"
          ]
        }
      ]
    },
    {
      "cell_type": "code",
      "source": [
        "!java --list-modules | grep \"jdk.jshell\""
      ],
      "metadata": {
        "id": "UwtwO3kp_XGn",
        "colab": {
          "base_uri": "https://localhost:8080/"
        },
        "outputId": "e536af4b-6df0-4764-ba17-444e47cb980f"
      },
      "execution_count": 5,
      "outputs": [
        {
          "output_type": "stream",
          "name": "stdout",
          "text": [
            "jdk.jshell@11.0.18\n"
          ]
        }
      ]
    },
    {
      "cell_type": "code",
      "source": [
        "!wget http://compbio.mit.edu/ChromHMM/ChromHMM.zip"
      ],
      "metadata": {
        "id": "5qAGFRF3_aMO",
        "colab": {
          "base_uri": "https://localhost:8080/"
        },
        "outputId": "f73c7560-53a5-4674-ecd5-8bcde7e04673"
      },
      "execution_count": 6,
      "outputs": [
        {
          "output_type": "stream",
          "name": "stdout",
          "text": [
            "--2023-04-03 11:41:35--  http://compbio.mit.edu/ChromHMM/ChromHMM.zip\n",
            "Resolving compbio.mit.edu (compbio.mit.edu)... 128.30.2.44\n",
            "Connecting to compbio.mit.edu (compbio.mit.edu)|128.30.2.44|:80... connected.\n",
            "HTTP request sent, awaiting response... 200 OK\n",
            "Length: 48940646 (47M) [application/zip]\n",
            "Saving to: ‘ChromHMM.zip’\n",
            "\n",
            "ChromHMM.zip        100%[===================>]  46.67M  5.94MB/s    in 8.6s    \n",
            "\n",
            "2023-04-03 11:41:44 (5.45 MB/s) - ‘ChromHMM.zip’ saved [48940646/48940646]\n",
            "\n"
          ]
        }
      ]
    },
    {
      "cell_type": "code",
      "source": [
        "!unzip /content/ChromHMM.zip"
      ],
      "metadata": {
        "id": "BRsQ1oXb_dlV",
        "colab": {
          "base_uri": "https://localhost:8080/"
        },
        "outputId": "67b96e61-00c2-43aa-cc32-45149aa80088"
      },
      "execution_count": 7,
      "outputs": [
        {
          "output_type": "stream",
          "name": "stdout",
          "text": [
            "Archive:  /content/ChromHMM.zip\n",
            "   creating: ChromHMM/ANCHORFILES/\n",
            "   creating: ChromHMM/ANCHORFILES/ce10/\n",
            "  inflating: ChromHMM/ANCHORFILES/ce10/RefSeqTES.ce10.txt.gz  \n",
            "  inflating: ChromHMM/ANCHORFILES/ce10/RefSeqTSS.ce10.txt.gz  \n",
            "   creating: ChromHMM/ANCHORFILES/ce11/\n",
            "  inflating: ChromHMM/ANCHORFILES/ce11/RefSeqTES.ce11.txt.gz  \n",
            "  inflating: ChromHMM/ANCHORFILES/ce11/RefSeqTSS.ce11.txt.gz  \n",
            "   creating: ChromHMM/ANCHORFILES/ce6/\n",
            "  inflating: ChromHMM/ANCHORFILES/ce6/RefSeqTES.ce6.txt.gz  \n",
            "  inflating: ChromHMM/ANCHORFILES/ce6/RefSeqTSS.ce6.txt.gz  \n",
            "   creating: ChromHMM/ANCHORFILES/danRer10/\n",
            "  inflating: ChromHMM/ANCHORFILES/danRer10/RefSeqTES.danRer10.txt.gz  \n",
            "  inflating: ChromHMM/ANCHORFILES/danRer10/RefSeqTSS.danRer10.txt.gz  \n",
            "   creating: ChromHMM/ANCHORFILES/danRer11/\n",
            "  inflating: ChromHMM/ANCHORFILES/danRer11/RefSeqTES.danRer11.txt.gz  \n",
            "  inflating: ChromHMM/ANCHORFILES/danRer11/RefSeqTSS.danRer11.txt.gz  \n",
            "   creating: ChromHMM/ANCHORFILES/danRer7/\n",
            "  inflating: ChromHMM/ANCHORFILES/danRer7/RefSeqTES.danRer7.txt.gz  \n",
            "  inflating: ChromHMM/ANCHORFILES/danRer7/RefSeqTSS.danRer7.txt.gz  \n",
            "   creating: ChromHMM/ANCHORFILES/dm3/\n",
            "  inflating: ChromHMM/ANCHORFILES/dm3/RefSeqTES.dm3.txt.gz  \n",
            "  inflating: ChromHMM/ANCHORFILES/dm3/RefSeqTSS.dm3.txt.gz  \n",
            "   creating: ChromHMM/ANCHORFILES/dm6/\n",
            "  inflating: ChromHMM/ANCHORFILES/dm6/RefSeqTES.dm6.txt.gz  \n",
            "  inflating: ChromHMM/ANCHORFILES/dm6/RefSeqTSS.dm6.txt.gz  \n",
            "   creating: ChromHMM/ANCHORFILES/hg18/\n",
            "  inflating: ChromHMM/ANCHORFILES/hg18/RefSeqTES.hg18.txt.gz  \n",
            "  inflating: ChromHMM/ANCHORFILES/hg18/RefSeqTSS.hg18.txt.gz  \n",
            "   creating: ChromHMM/ANCHORFILES/hg19/\n",
            "  inflating: ChromHMM/ANCHORFILES/hg19/RefSeqTES.hg19.txt.gz  \n",
            "  inflating: ChromHMM/ANCHORFILES/hg19/RefSeqTSS.hg19.txt.gz  \n",
            "   creating: ChromHMM/ANCHORFILES/hg38/\n",
            "  inflating: ChromHMM/ANCHORFILES/hg38/RefSeqTES.hg38.txt.gz  \n",
            "  inflating: ChromHMM/ANCHORFILES/hg38/RefSeqTSS.hg38.txt.gz  \n",
            "   creating: ChromHMM/ANCHORFILES/hs1/\n",
            "  inflating: ChromHMM/ANCHORFILES/hs1/RefSeqTES.hs1.txt.gz  \n",
            "  inflating: ChromHMM/ANCHORFILES/hs1/RefSeqTSS.hs1.txt.gz  \n",
            "   creating: ChromHMM/ANCHORFILES/mm10/\n",
            "  inflating: ChromHMM/ANCHORFILES/mm10/RefSeqTES.mm10.txt.gz  \n",
            "  inflating: ChromHMM/ANCHORFILES/mm10/RefSeqTSS.mm10.txt.gz  \n",
            "   creating: ChromHMM/ANCHORFILES/mm39/\n",
            "  inflating: ChromHMM/ANCHORFILES/mm39/RefSeqTES.mm39.txt.gz  \n",
            "  inflating: ChromHMM/ANCHORFILES/mm39/RefSeqTSS.mm39.txt.gz  \n",
            "   creating: ChromHMM/ANCHORFILES/mm9/\n",
            "  inflating: ChromHMM/ANCHORFILES/mm9/RefSeqTES.mm9.txt.gz  \n",
            "  inflating: ChromHMM/ANCHORFILES/mm9/RefSeqTSS.mm9.txt.gz  \n",
            "   creating: ChromHMM/ANCHORFILES/rn5/\n",
            "  inflating: ChromHMM/ANCHORFILES/rn5/RefSeqTES.rn5.txt.gz  \n",
            "  inflating: ChromHMM/ANCHORFILES/rn5/RefSeqTSS.rn5.txt.gz  \n",
            "   creating: ChromHMM/ANCHORFILES/rn6/\n",
            "  inflating: ChromHMM/ANCHORFILES/rn6/RefSeqTES.rn6.txt.gz  \n",
            "  inflating: ChromHMM/ANCHORFILES/rn6/RefSeqTSS.rn6.txt.gz  \n",
            "  inflating: ChromHMM/ChromHMM.jar   \n",
            "  inflating: ChromHMM/ChromHMM_manual.pdf  \n",
            "   creating: ChromHMM/CHROMSIZES/\n",
            "  inflating: ChromHMM/CHROMSIZES/ce10.txt  \n",
            "  inflating: ChromHMM/CHROMSIZES/ce11.txt  \n",
            "  inflating: ChromHMM/CHROMSIZES/ce6.txt  \n",
            "  inflating: ChromHMM/CHROMSIZES/danRer10.txt  \n",
            "  inflating: ChromHMM/CHROMSIZES/danRer11.txt  \n",
            "  inflating: ChromHMM/CHROMSIZES/danRer7.txt  \n",
            "  inflating: ChromHMM/CHROMSIZES/dm3.txt  \n",
            "  inflating: ChromHMM/CHROMSIZES/dm6.txt  \n",
            "  inflating: ChromHMM/CHROMSIZES/hg18.txt  \n",
            "  inflating: ChromHMM/CHROMSIZES/hg19.txt  \n",
            "  inflating: ChromHMM/CHROMSIZES/hg38.txt  \n",
            "  inflating: ChromHMM/CHROMSIZES/hs1.txt  \n",
            "  inflating: ChromHMM/CHROMSIZES/mm10.txt  \n",
            "  inflating: ChromHMM/CHROMSIZES/mm39.txt  \n",
            "  inflating: ChromHMM/CHROMSIZES/mm9.txt  \n",
            "  inflating: ChromHMM/CHROMSIZES/rn5.txt  \n",
            "  inflating: ChromHMM/CHROMSIZES/rn6.txt  \n",
            "   creating: ChromHMM/COORDS/\n",
            "   creating: ChromHMM/COORDS/ce10/\n",
            "  inflating: ChromHMM/COORDS/ce10/RefSeqExon.ce10.bed.gz  \n",
            "  inflating: ChromHMM/COORDS/ce10/RefSeqGene.ce10.bed.gz  \n",
            "  inflating: ChromHMM/COORDS/ce10/RefSeqTES.ce10.bed.gz  \n",
            "  inflating: ChromHMM/COORDS/ce10/RefSeqTSS.ce10.bed.gz  \n",
            "  inflating: ChromHMM/COORDS/ce10/RefSeqTSS2kb.ce10.bed.gz  \n",
            "   creating: ChromHMM/COORDS/ce11/\n",
            "  inflating: ChromHMM/COORDS/ce11/RefSeqExon.ce11.bed.gz  \n",
            "  inflating: ChromHMM/COORDS/ce11/RefSeqGene.ce11.bed.gz  \n",
            "  inflating: ChromHMM/COORDS/ce11/RefSeqTES.ce11.bed.gz  \n",
            "  inflating: ChromHMM/COORDS/ce11/RefSeqTSS.ce11.bed.gz  \n",
            "  inflating: ChromHMM/COORDS/ce11/RefSeqTSS2kb.ce11.bed.gz  \n",
            "   creating: ChromHMM/COORDS/ce6/\n",
            "  inflating: ChromHMM/COORDS/ce6/RefSeqExon.ce6.bed.gz  \n",
            "  inflating: ChromHMM/COORDS/ce6/RefSeqGene.ce6.bed.gz  \n",
            "  inflating: ChromHMM/COORDS/ce6/RefSeqTES.ce6.bed.gz  \n",
            "  inflating: ChromHMM/COORDS/ce6/RefSeqTSS.ce6.bed.gz  \n",
            "  inflating: ChromHMM/COORDS/ce6/RefSeqTSS2kb.ce6.bed.gz  \n",
            "   creating: ChromHMM/COORDS/danRer10/\n",
            "  inflating: ChromHMM/COORDS/danRer10/RefSeqExon.danRer10.bed.gz  \n",
            "  inflating: ChromHMM/COORDS/danRer10/RefSeqGene.danRer10.bed.gz  \n",
            "  inflating: ChromHMM/COORDS/danRer10/RefSeqTES.danRer10.bed.gz  \n",
            "  inflating: ChromHMM/COORDS/danRer10/RefSeqTSS.danRer10.bed.gz  \n",
            "  inflating: ChromHMM/COORDS/danRer10/RefSeqTSS2kb.danRer10.bed.gz  \n",
            "   creating: ChromHMM/COORDS/danRer11/\n",
            "  inflating: ChromHMM/COORDS/danRer11/RefSeqExon.danRer11.bed.gz  \n",
            "  inflating: ChromHMM/COORDS/danRer11/RefSeqGene.danRer11.bed.gz  \n",
            "  inflating: ChromHMM/COORDS/danRer11/RefSeqTES.danRer11.bed.gz  \n",
            "  inflating: ChromHMM/COORDS/danRer11/RefSeqTSS.danRer11.bed.gz  \n",
            "  inflating: ChromHMM/COORDS/danRer11/RefSeqTSS2kb.danRer11.bed.gz  \n",
            "   creating: ChromHMM/COORDS/danRer7/\n",
            "  inflating: ChromHMM/COORDS/danRer7/RefSeqExon.danRer7.bed.gz  \n",
            "  inflating: ChromHMM/COORDS/danRer7/RefSeqGene.danRer7.bed.gz  \n",
            "  inflating: ChromHMM/COORDS/danRer7/RefSeqTES.danRer7.bed.gz  \n",
            "  inflating: ChromHMM/COORDS/danRer7/RefSeqTSS.danRer7.bed.gz  \n",
            "  inflating: ChromHMM/COORDS/danRer7/RefSeqTSS2kb.danRer7.bed.gz  \n",
            "   creating: ChromHMM/COORDS/dm3/\n",
            "  inflating: ChromHMM/COORDS/dm3/RefSeqExon.dm3.bed.gz  \n",
            "  inflating: ChromHMM/COORDS/dm3/RefSeqGene.dm3.bed.gz  \n",
            "  inflating: ChromHMM/COORDS/dm3/RefSeqTES.dm3.bed.gz  \n",
            "  inflating: ChromHMM/COORDS/dm3/RefSeqTSS.dm3.bed.gz  \n",
            "  inflating: ChromHMM/COORDS/dm3/RefSeqTSS2kb.dm3.bed.gz  \n",
            "   creating: ChromHMM/COORDS/dm6/\n",
            "  inflating: ChromHMM/COORDS/dm6/RefSeqExon.dm6.bed.gz  \n",
            "  inflating: ChromHMM/COORDS/dm6/RefSeqGene.dm6.bed.gz  \n",
            "  inflating: ChromHMM/COORDS/dm6/RefSeqTES.dm6.bed.gz  \n",
            "  inflating: ChromHMM/COORDS/dm6/RefSeqTSS.dm6.bed.gz  \n",
            "  inflating: ChromHMM/COORDS/dm6/RefSeqTSS2kb.dm6.bed.gz  \n",
            "   creating: ChromHMM/COORDS/hg18/\n",
            "  inflating: ChromHMM/COORDS/hg18/CpGIsland.hg18.bed.gz  \n",
            " extracting: ChromHMM/COORDS/hg18/laminB1lads.hg18.bed.gz  \n",
            "  inflating: ChromHMM/COORDS/hg18/RefSeqExon.hg18.bed.gz  \n",
            "  inflating: ChromHMM/COORDS/hg18/RefSeqGene.hg18.bed.gz  \n",
            "  inflating: ChromHMM/COORDS/hg18/RefSeqTES.hg18.bed.gz  \n",
            "  inflating: ChromHMM/COORDS/hg18/RefSeqTSS.hg18.bed.gz  \n",
            "  inflating: ChromHMM/COORDS/hg18/RefSeqTSS2kb.hg18.bed.gz  \n",
            "   creating: ChromHMM/COORDS/hg19/\n",
            "  inflating: ChromHMM/COORDS/hg19/CpGIsland.hg19.bed.gz  \n",
            " extracting: ChromHMM/COORDS/hg19/laminB1lads.hg19.bed.gz  \n",
            "  inflating: ChromHMM/COORDS/hg19/RefSeqExon.hg19.bed.gz  \n",
            "  inflating: ChromHMM/COORDS/hg19/RefSeqGene.hg19.bed.gz  \n",
            "  inflating: ChromHMM/COORDS/hg19/RefSeqTES.hg19.bed.gz  \n",
            "  inflating: ChromHMM/COORDS/hg19/RefSeqTSS.hg19.bed.gz  \n",
            "  inflating: ChromHMM/COORDS/hg19/RefSeqTSS2kb.hg19.bed.gz  \n",
            "   creating: ChromHMM/COORDS/hg38/\n",
            "  inflating: ChromHMM/COORDS/hg38/CpGIsland.hg38.bed.gz  \n",
            "  inflating: ChromHMM/COORDS/hg38/RefSeqExon.hg38.bed.gz  \n",
            "  inflating: ChromHMM/COORDS/hg38/RefSeqGene.hg38.bed.gz  \n",
            "  inflating: ChromHMM/COORDS/hg38/RefSeqTES.hg38.bed.gz  \n",
            "  inflating: ChromHMM/COORDS/hg38/RefSeqTSS.hg38.bed.gz  \n",
            "  inflating: ChromHMM/COORDS/hg38/RefSeqTSS2kb.hg38.bed.gz  \n",
            "   creating: ChromHMM/COORDS/hs1/\n",
            "  inflating: ChromHMM/COORDS/hs1/CpGIsland.hs1.bed.gz  \n",
            "  inflating: ChromHMM/COORDS/hs1/RefSeqExon.hs1.bed.gz  \n",
            "  inflating: ChromHMM/COORDS/hs1/RefSeqGene.hs1.bed.gz  \n",
            "  inflating: ChromHMM/COORDS/hs1/RefSeqTES.hs1.bed.gz  \n",
            "  inflating: ChromHMM/COORDS/hs1/RefSeqTSS.hs1.bed.gz  \n",
            "  inflating: ChromHMM/COORDS/hs1/RefSeqTSS2kb.hs1.bed.gz  \n",
            "   creating: ChromHMM/COORDS/mm10/\n",
            "  inflating: ChromHMM/COORDS/mm10/CpGIsland.mm10.bed.gz  \n",
            "  inflating: ChromHMM/COORDS/mm10/RefSeqExon.mm10.bed.gz  \n",
            "  inflating: ChromHMM/COORDS/mm10/RefSeqGene.mm10.bed.gz  \n",
            "  inflating: ChromHMM/COORDS/mm10/RefSeqTES.mm10.bed.gz  \n",
            "  inflating: ChromHMM/COORDS/mm10/RefSeqTSS.mm10.bed.gz  \n",
            "  inflating: ChromHMM/COORDS/mm10/RefSeqTSS2kb.mm10.bed.gz  \n",
            "   creating: ChromHMM/COORDS/mm39/\n",
            "  inflating: ChromHMM/COORDS/mm39/CpGIsland.mm39.bed.gz  \n",
            "  inflating: ChromHMM/COORDS/mm39/RefSeqExon.mm39.bed.gz  \n",
            "  inflating: ChromHMM/COORDS/mm39/RefSeqGene.mm39.bed.gz  \n",
            "  inflating: ChromHMM/COORDS/mm39/RefSeqTES.mm39.bed.gz  \n",
            "  inflating: ChromHMM/COORDS/mm39/RefSeqTSS.mm39.bed.gz  \n",
            "  inflating: ChromHMM/COORDS/mm39/RefSeqTSS2kb.mm39.bed.gz  \n",
            "   creating: ChromHMM/COORDS/mm9/\n",
            "  inflating: ChromHMM/COORDS/mm9/CpGIsland.mm9.bed.gz  \n",
            "  inflating: ChromHMM/COORDS/mm9/RefSeqExon.mm9.bed.gz  \n",
            "  inflating: ChromHMM/COORDS/mm9/RefSeqGene.mm9.bed.gz  \n",
            "  inflating: ChromHMM/COORDS/mm9/RefSeqTES.mm9.bed.gz  \n",
            "  inflating: ChromHMM/COORDS/mm9/RefSeqTSS.mm9.bed.gz  \n",
            "  inflating: ChromHMM/COORDS/mm9/RefSeqTSS2kb.mm9.bed.gz  \n",
            "   creating: ChromHMM/COORDS/rn5/\n",
            "  inflating: ChromHMM/COORDS/rn5/CpGIsland.rn5.bed.gz  \n",
            "  inflating: ChromHMM/COORDS/rn5/RefSeqExon.rn5.bed.gz  \n",
            "  inflating: ChromHMM/COORDS/rn5/RefSeqGene.rn5.bed.gz  \n",
            "  inflating: ChromHMM/COORDS/rn5/RefSeqTES.rn5.bed.gz  \n",
            "  inflating: ChromHMM/COORDS/rn5/RefSeqTSS.rn5.bed.gz  \n",
            "  inflating: ChromHMM/COORDS/rn5/RefSeqTSS2kb.rn5.bed.gz  \n",
            "   creating: ChromHMM/COORDS/rn6/\n",
            "  inflating: ChromHMM/COORDS/rn6/CpGIsland.rn6.bed.gz  \n",
            "  inflating: ChromHMM/COORDS/rn6/RefSeqExon.rn6.bed.gz  \n",
            "  inflating: ChromHMM/COORDS/rn6/RefSeqGene.rn6.bed.gz  \n",
            "  inflating: ChromHMM/COORDS/rn6/RefSeqTES.rn6.bed.gz  \n",
            "  inflating: ChromHMM/COORDS/rn6/RefSeqTSS.rn6.bed.gz  \n",
            "  inflating: ChromHMM/COORDS/rn6/RefSeqTSS2kb.rn6.bed.gz  \n",
            "   creating: ChromHMM/SAMPLEDATA_HG18/\n",
            "  inflating: ChromHMM/SAMPLEDATA_HG18/GM12878_chr11_binary.txt.gz  \n",
            "  inflating: ChromHMM/SAMPLEDATA_HG18/K562_chr11_binary.txt.gz  \n",
            "   creating: ChromHMM/SRC/\n",
            "   creating: ChromHMM/SRC/edu/\n",
            "   creating: ChromHMM/SRC/edu/mit/\n",
            "   creating: ChromHMM/SRC/edu/mit/compbio/\n",
            "   creating: ChromHMM/SRC/edu/mit/compbio/ChromHMM/\n",
            "  inflating: ChromHMM/SRC/edu/mit/compbio/ChromHMM/BrowserOutput.java  \n",
            "  inflating: ChromHMM/SRC/edu/mit/compbio/ChromHMM/ChromHMM.java  \n",
            "  inflating: ChromHMM/SRC/edu/mit/compbio/ChromHMM/ConvertGeneTable.java  \n",
            "  inflating: ChromHMM/SRC/edu/mit/compbio/ChromHMM/NestedEliminateInitialize.java  \n",
            "  inflating: ChromHMM/SRC/edu/mit/compbio/ChromHMM/Preprocessing.java  \n",
            "  inflating: ChromHMM/SRC/edu/mit/compbio/ChromHMM/StateAnalysis.java  \n",
            "  inflating: ChromHMM/SRC/edu/mit/compbio/ChromHMM/Util.java  \n",
            "   creating: ChromHMM/SRC/org/\n",
            "   creating: ChromHMM/SRC/org/tc33/\n",
            "   creating: ChromHMM/SRC/org/tc33/jheatchart/\n",
            "  inflating: ChromHMM/SRC/org/tc33/jheatchart/HeatChart.java  \n",
            "  inflating: ChromHMM/versionlog.txt  \n"
          ]
        }
      ]
    },
    {
      "cell_type": "markdown",
      "source": [
        "## ChromHMM"
      ],
      "metadata": {
        "id": "wbYNYUzCCqbF"
      }
    },
    {
      "cell_type": "markdown",
      "source": [
        "Запускаем ChromHMM с опцией BinarizeBam, чтобы конвертировать профили из ChIP-seq экспериментов (bam-файлы) в табличку из 0 и 1, т.е. чтобы сделать разбивку генома на условные интервалы (бины) длиной 200 п.о."
      ],
      "metadata": {
        "id": "TsdST7QoCnu-"
      }
    },
    {
      "cell_type": "code",
      "source": [
        "!java -mx5000M -jar /content/ChromHMM/ChromHMM.jar BinarizeBam -b 200  /content/ChromHMM/CHROMSIZES/hg19.txt /content/ cellmarkfiletable.txt   binarizedData"
      ],
      "metadata": {
        "id": "_TFg8Z0BCuzI",
        "colab": {
          "base_uri": "https://localhost:8080/"
        },
        "outputId": "3efdf25a-7cb0-4faf-c5e8-d78ca00ee76b"
      },
      "execution_count": 11,
      "outputs": [
        {
          "output_type": "stream",
          "name": "stdout",
          "text": [
            "Writing to file binarizedData/GM12878_chr1_binary.txt\n",
            "Writing to file binarizedData/GM12878_chr2_binary.txt\n",
            "Writing to file binarizedData/GM12878_chr3_binary.txt\n",
            "Writing to file binarizedData/GM12878_chr4_binary.txt\n",
            "Writing to file binarizedData/GM12878_chr5_binary.txt\n",
            "Writing to file binarizedData/GM12878_chr6_binary.txt\n",
            "Writing to file binarizedData/GM12878_chr7_binary.txt\n",
            "Writing to file binarizedData/GM12878_chrX_binary.txt\n",
            "Writing to file binarizedData/GM12878_chr8_binary.txt\n",
            "Writing to file binarizedData/GM12878_chr9_binary.txt\n",
            "Writing to file binarizedData/GM12878_chr10_binary.txt\n",
            "Writing to file binarizedData/GM12878_chr11_binary.txt\n",
            "Writing to file binarizedData/GM12878_chr12_binary.txt\n",
            "Writing to file binarizedData/GM12878_chr13_binary.txt\n",
            "Writing to file binarizedData/GM12878_chr14_binary.txt\n",
            "Writing to file binarizedData/GM12878_chr15_binary.txt\n",
            "Writing to file binarizedData/GM12878_chr16_binary.txt\n",
            "Writing to file binarizedData/GM12878_chr17_binary.txt\n",
            "Writing to file binarizedData/GM12878_chr18_binary.txt\n",
            "Writing to file binarizedData/GM12878_chr20_binary.txt\n",
            "Writing to file binarizedData/GM12878_chr19_binary.txt\n",
            "Writing to file binarizedData/GM12878_chr22_binary.txt\n",
            "Writing to file binarizedData/GM12878_chr21_binary.txt\n",
            "Writing to file binarizedData/GM12878_chrM_binary.txt\n"
          ]
        }
      ]
    },
    {
      "cell_type": "markdown",
      "source": [
        "Запускаем ChromHMM с опцией LearnModel (см. руководство пользователя), которая автоматически определит параметры N разных эпигенетических типов с наиболее выраженными наборами гистоновых меток и присвоит каждому геномному интервалу определенный эпигенетический тип."
      ],
      "metadata": {
        "id": "GbP_J9fdDuy1"
      }
    },
    {
      "cell_type": "code",
      "source": [
        "!java -mx5000M -jar /content/ChromHMM/ChromHMM.jar LearnModel binarizedData Output 10 hg19"
      ],
      "metadata": {
        "colab": {
          "base_uri": "https://localhost:8080/"
        },
        "id": "vd6Ix49QzNZs",
        "outputId": "f8b72b98-8d05-44e2-8b75-af1b402d9c8c"
      },
      "execution_count": 12,
      "outputs": [
        {
          "output_type": "stream",
          "name": "stdout",
          "text": [
            "Writing to file Output/transitions_10.txt\n",
            "Writing to file Output/emissions_10.txt\n",
            "Writing to file Output/emissions_10.svg\n",
            "Writing to file Output/emissions_10.png\n",
            "Writing to file Output/transitions_10.png\n",
            "Writing to file Output/transitions_10.svg\n",
            "Writing to file Output/model_10.txt\n",
            " Iteration  Estimated Log Likelihood     Change    Total Time (secs)\n",
            "         1              -9831062.490          -                 17.9\n",
            "         2              -8322111.744 1508950.745                 31.3\n",
            "         3              -8007054.324 315057.420                 43.7\n",
            "         4              -7812867.873 194186.451                 55.3\n",
            "         5              -7708114.834 104753.039                 65.5\n",
            "         6              -7660892.862  47221.972                 76.3\n",
            "         7              -7637897.694  22995.169                 87.2\n",
            "         8              -7624609.758  13287.935                 98.0\n",
            "         9              -7617557.159   7052.599                108.9\n",
            "        10              -7613368.140   4189.019                119.5\n",
            "        11              -7610236.089   3132.051                129.6\n",
            "        12              -7607507.284   2728.805                140.7\n",
            "        13              -7604870.057   2637.226                151.6\n",
            "        14              -7602203.567   2666.490                162.3\n",
            "        15              -7599536.270   2667.297                173.2\n",
            "        16              -7596958.052   2578.218                185.1\n",
            "        17              -7594545.785   2412.266                202.9\n",
            "        18              -7592358.651   2187.134                216.6\n",
            "        19              -7590452.352   1906.300                228.6\n",
            "        20              -7588873.571   1578.781                240.3\n",
            "        21              -7587638.633   1234.938                251.6\n",
            "        22              -7586720.550    918.083                261.6\n",
            "        23              -7586062.224    658.326                272.0\n",
            "        24              -7585598.416    463.808                282.8\n",
            "        25              -7585271.697    326.719                293.7\n",
            "        26              -7585038.292    233.405                308.8\n",
            "        27              -7584855.776    182.516                321.0\n",
            "        28              -7584489.001    366.775                333.3\n",
            "        29              -7583059.538   1429.463                345.6\n",
            "        30              -7582171.935    887.603                357.9\n",
            "        31              -7582028.184    143.751                370.1\n",
            "        32              -7581957.010     71.174                382.4\n",
            "        33              -7581899.612     57.398                394.5\n",
            "        34              -7581848.445     51.167                406.7\n",
            "        35              -7581799.983     48.462                418.8\n",
            "        36              -7581751.949     48.033                431.0\n",
            "        37              -7581703.138     48.812                443.2\n",
            "        38              -7581653.301     49.837                455.6\n",
            "        39              -7581602.886     50.414                467.3\n",
            "        40              -7581552.756     50.130                479.0\n",
            "        41              -7581504.059     48.697                490.9\n",
            "        42              -7581458.180     45.879                503.1\n",
            "        43              -7581416.520     41.660                515.4\n",
            "        44              -7581380.096     36.424                527.5\n",
            "        45              -7581349.237     30.858                539.7\n",
            "        46              -7581323.616     25.622                553.4\n",
            "        47              -7581302.549     21.067                568.3\n",
            "        48              -7581285.296     17.253                581.2\n",
            "        49              -7581271.156     14.140                598.0\n",
            "        50              -7581259.438     11.717                610.0\n",
            "        51              -7581249.599      9.840                622.3\n",
            "        52              -7581241.098      8.501                634.4\n",
            "        53              -7581233.579      7.520                646.4\n",
            "        54              -7581226.781      6.798                658.7\n",
            "        55              -7581220.525      6.256                671.1\n",
            "        56              -7581214.682      5.842                683.4\n",
            "        57              -7581209.164      5.519                695.8\n",
            "        58              -7581203.903      5.261                708.2\n",
            "        59              -7581198.853      5.049                720.6\n",
            "        60              -7581193.981      4.873                733.0\n",
            "        61              -7581189.260      4.721                745.3\n",
            "        62              -7581184.671      4.588                757.8\n",
            "        63              -7581180.202      4.470                770.1\n",
            "        64              -7581175.837      4.364                782.4\n",
            "        65              -7581171.567      4.270                794.9\n",
            "        66              -7581167.378      4.189                809.0\n",
            "        67              -7581163.259      4.118                821.4\n",
            "        68              -7581159.198      4.061                833.7\n",
            "        69              -7581155.180      4.018                846.1\n",
            "        70              -7581151.191      3.989                858.3\n",
            "        71              -7581147.217      3.974                870.6\n",
            "        72              -7581143.244      3.973                883.0\n",
            "        73              -7581139.258      3.986                895.3\n",
            "        74              -7581135.244      4.014                907.7\n",
            "        75              -7581131.188      4.056                920.0\n",
            "        76              -7581127.076      4.113                932.5\n",
            "        77              -7581122.891      4.185                945.2\n",
            "        78              -7581118.617      4.273                957.8\n",
            "        79              -7581114.238      4.379                970.5\n",
            "        80              -7581109.735      4.503                983.1\n",
            "        81              -7581105.087      4.648                995.7\n",
            "        82              -7581100.271      4.816               1008.4\n",
            "        83              -7581095.263      5.008               1021.0\n",
            "        84              -7581090.034      5.229               1033.7\n",
            "        85              -7581084.551      5.482               1046.3\n",
            "        86              -7581078.779      5.772               1060.4\n",
            "        87              -7581072.676      6.103               1073.2\n",
            "        88              -7581066.194      6.483               1086.0\n",
            "        89              -7581059.275      6.919               1098.6\n",
            "        90              -7581051.855      7.420               1111.2\n",
            "        91              -7581043.856      7.999               1123.9\n",
            "        92              -7581035.187      8.669               1136.5\n",
            "        93              -7581025.739      9.448               1149.2\n",
            "        94              -7581015.381     10.357               1161.9\n",
            "        95              -7581003.957     11.424               1175.2\n",
            "        96              -7580991.275     12.682               1188.3\n",
            "        97              -7580977.100     14.174               1201.2\n",
            "        98              -7580961.146     15.955               1213.8\n",
            "        99              -7580943.053     18.092               1226.5\n",
            "       100              -7580922.375     20.678               1239.1\n",
            "       101              -7580898.548     23.827               1251.7\n",
            "       102              -7580870.856     27.692               1264.5\n",
            "       103              -7580838.384     32.472               1277.1\n",
            "       104              -7580799.954     38.430               1289.7\n",
            "       105              -7580754.037     45.916               1302.3\n",
            "       106              -7580698.644     55.393               1315.0\n",
            "       107              -7580631.170     67.474               1327.7\n",
            "       108              -7580548.207     82.963               1340.3\n",
            "       109              -7580445.305    102.902               1352.9\n",
            "       110              -7580316.709    128.595               1365.6\n",
            "       111              -7580155.132    161.577               1378.2\n",
            "       112              -7579951.700    203.432               1390.8\n",
            "       113              -7579696.405    255.296               1403.5\n",
            "       114              -7579379.548    316.857               1417.8\n",
            "       115              -7578994.715    384.832               1430.4\n",
            "       116              -7578543.137    451.579               1443.1\n",
            "       117              -7578037.426    505.710               1455.8\n",
            "       118              -7577501.436    535.991               1468.4\n",
            "       119              -7576965.012    536.424               1481.0\n",
            "       120              -7576456.297    508.715               1493.6\n",
            "       121              -7575995.849    460.448               1506.3\n",
            "       122              -7575594.775    401.074               1519.0\n",
            "       123              -7575256.114    338.661               1531.7\n",
            "       124              -7574977.288    278.826               1544.4\n",
            "       125              -7574752.427    224.861               1558.0\n",
            "       126              -7574574.182    178.245               1571.1\n",
            "       127              -7574434.936    139.246               1583.8\n",
            "       128              -7574327.504    107.432               1596.4\n",
            "       129              -7574245.485     82.019               1609.0\n",
            "       130              -7574183.396     62.089               1621.6\n",
            "       131              -7574136.682     46.714               1634.2\n",
            "       132              -7574101.660     35.022               1646.9\n",
            "       133              -7574075.424     26.236               1659.5\n",
            "       134              -7574055.731     19.693               1672.2\n",
            "       135              -7574040.879     14.852               1685.0\n",
            "       136              -7574029.594     11.284               1697.8\n",
            "       137              -7574020.936      8.658               1710.5\n",
            "       138              -7574014.214      6.722               1723.3\n",
            "       139              -7574008.923      5.290               1736.0\n",
            "       140              -7574004.699      4.224               1748.6\n",
            "       141              -7574001.274      3.424               1761.1\n",
            "       142              -7573998.457      2.817               1773.7\n",
            "       143              -7573996.107      2.350               1786.4\n",
            "       144              -7573994.121      1.986               1799.0\n",
            "       145              -7573992.423      1.698               1811.6\n",
            "       146              -7573990.958      1.465               1824.3\n",
            "       147              -7573989.683      1.275               1836.9\n",
            "       148              -7573988.566      1.117               1849.6\n",
            "       149              -7573987.582      0.984               1862.1\n",
            "       150              -7573986.712      0.870               1874.8\n",
            "       151              -7573985.939      0.772               1887.4\n",
            "       152              -7573985.252      0.687               1900.1\n",
            "       153              -7573984.640      0.612               1912.7\n",
            "       154              -7573984.094      0.546               1925.3\n",
            "       155              -7573983.606      0.488               1937.9\n",
            "       156              -7573983.170      0.436               1950.5\n",
            "       157              -7573982.781      0.389               1963.2\n",
            "       158              -7573982.433      0.348               1975.9\n",
            "       159              -7573982.122      0.311               1988.5\n",
            "       160              -7573981.844      0.278               2001.1\n",
            "       161              -7573981.595      0.248               2013.7\n",
            "       162              -7573981.374      0.222               2026.3\n",
            "       163              -7573981.176      0.198               2038.9\n",
            "       164              -7573981.000      0.176               2051.5\n",
            "       165              -7573980.842      0.157               2064.0\n",
            "       166              -7573980.702      0.140               2078.1\n",
            "       167              -7573980.577      0.125               2090.7\n",
            "       168              -7573980.467      0.111               2103.4\n",
            "       169              -7573980.368      0.099               2115.9\n",
            "       170              -7573980.280      0.088               2128.9\n",
            "       171              -7573980.203      0.078               2141.5\n",
            "       172              -7573980.134      0.069               2154.2\n",
            "       173              -7573980.073      0.061               2166.8\n",
            "       174              -7573980.019      0.054               2179.4\n",
            "       175              -7573979.971      0.048               2191.9\n",
            "       176              -7573979.929      0.042               2204.4\n",
            "       177              -7573979.892      0.037               2216.8\n",
            "       178              -7573979.859      0.033               2229.3\n",
            "       179              -7573979.830      0.029               2242.4\n",
            "       180              -7573979.805      0.025               2254.9\n",
            "       181              -7573979.782      0.022               2267.3\n",
            "       182              -7573979.763      0.019               2279.8\n",
            "       183              -7573979.746      0.017               2292.2\n",
            "       184              -7573979.731      0.015               2304.8\n",
            "       185              -7573979.718      0.013               2317.2\n",
            "       186              -7573979.707      0.011               2329.6\n",
            "       187              -7573979.697      0.010               2342.2\n",
            "       188              -7573979.689      0.008               2354.8\n",
            "       189              -7573979.682      0.007               2367.5\n",
            "       190              -7573979.676      0.006               2380.1\n",
            "       191              -7573979.670      0.005               2392.7\n",
            "       192              -7573979.666      0.004               2405.4\n",
            "       193              -7573979.662      0.004               2418.0\n",
            "       194              -7573979.659      0.003               2430.6\n",
            "       195              -7573979.657      0.003               2443.3\n",
            "       196              -7573979.655      0.002               2455.8\n",
            "       197              -7573979.653      0.002               2468.5\n",
            "       198              -7573979.651      0.001               2481.1\n",
            "       199              -7573979.650      0.001               2493.8\n",
            "       200              -7573979.650      0.001               2506.4\n",
            "Writing to file Output/GM12878_10_segments.bed\n",
            "Writing to file Output/GM12878_10_dense.bed\n",
            "Writing to file Output/GM12878_10_expanded.bed\n",
            "Writing to file Output/GM12878_10_overlap.txt\n",
            "Writing to file Output/GM12878_10_overlap.png\n",
            "Writing to file Output/GM12878_10_overlap.svg\n",
            "Writing to file Output/GM12878_10_RefSeqTSS_neighborhood.txt\n",
            "Writing to file Output/GM12878_10_RefSeqTSS_neighborhood.png\n",
            "Writing to file Output/GM12878_10_RefSeqTSS_neighborhood.svg\n",
            "Writing to file Output/GM12878_10_RefSeqTES_neighborhood.txt\n",
            "Writing to file Output/GM12878_10_RefSeqTES_neighborhood.png\n",
            "Writing to file Output/GM12878_10_RefSeqTES_neighborhood.svg\n",
            "Warning could not automatically open in a browser Output/webpage_10.html\n"
          ]
        }
      ]
    },
    {
      "cell_type": "code",
      "source": [
        "! tar -cvf output.tar.gz Output"
      ],
      "metadata": {
        "colab": {
          "base_uri": "https://localhost:8080/"
        },
        "id": "OMxKP8QO1r4r",
        "outputId": "0b715a21-553f-49c0-9095-042f30c78c58"
      },
      "execution_count": 13,
      "outputs": [
        {
          "output_type": "stream",
          "name": "stdout",
          "text": [
            "Output/\n",
            "Output/emissions_10.svg\n",
            "Output/GM12878_10_RefSeqTSS_neighborhood.png\n",
            "Output/GM12878_10_RefSeqTSS_neighborhood.txt\n",
            "Output/webpage_10.html\n",
            "Output/GM12878_10_expanded.bed\n",
            "Output/GM12878_10_overlap.txt\n",
            "Output/emissions_10.txt\n",
            "Output/GM12878_10_RefSeqTES_neighborhood.txt\n",
            "Output/GM12878_10_RefSeqTES_neighborhood.png\n",
            "Output/GM12878_10_dense.bed\n",
            "Output/transitions_10.txt\n",
            "Output/model_10.txt\n",
            "Output/GM12878_10_overlap.png\n",
            "Output/GM12878_10_RefSeqTES_neighborhood.svg\n",
            "Output/GM12878_10_overlap.svg\n",
            "Output/transitions_10.png\n",
            "Output/GM12878_10_RefSeqTSS_neighborhood.svg\n",
            "Output/transitions_10.svg\n",
            "Output/GM12878_10_segments.bed\n",
            "Output/emissions_10.png\n"
          ]
        }
      ]
    },
    {
      "cell_type": "markdown",
      "source": [
        "## Бонусная часть задания"
      ],
      "metadata": {
        "id": "TOQHcMaN_k7k"
      }
    },
    {
      "cell_type": "code",
      "source": [
        "types = {'1': 'Txn_Elongation',\n",
        "         '2': 'Txn_Transition/Elongation',\n",
        "         '3': 'Strong_Enhancer',\n",
        "         '4': 'Active_Promoter',\n",
        "         '5': 'Strong_Enhancer',\n",
        "         '6': 'Weak_Promoter/Enhancer',\n",
        "         '7': 'Weak_Enhancer',\n",
        "         '8': 'Txn_Transition',\n",
        "         '9': 'Heterochromatin',\n",
        "         '10': 'Heterochromatin',\n",
        "}\n",
        "\n",
        "with open(f\"GM12878_10_dense.bed\", 'r') as f1, open(f\"GM12878_10_dense_new.bed\", 'w') as f2:\n",
        "    file = f1.readlines()\n",
        "    for l in file:\n",
        "        if 'chr' in l[0:3]:\n",
        "            l = l.split('\\t')\n",
        "            l[3] = l[3] + '_' + types[l[3]]\n",
        "            l = '\\t'.join(l)\n",
        "        f2.write(l)"
      ],
      "metadata": {
        "id": "ITVy6Gne_lWT"
      },
      "execution_count": 2,
      "outputs": []
    }
  ]
}